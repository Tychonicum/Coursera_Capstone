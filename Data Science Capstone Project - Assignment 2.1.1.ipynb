{
 "cells": [
  {
   "cell_type": "markdown",
   "metadata": {},
   "source": [
    "# Data Science Capstone Project\n",
    "The present Jupyter Notebook implements assignments of the course \"Applied Data Science Capstone\", the last of the nine courses of the IBM Professional Certification \"Data Science\". "
   ]
  },
  {
   "cell_type": "markdown",
   "metadata": {},
   "source": [
    "## Week 2 - Assignment 1.1"
   ]
  },
  {
   "cell_type": "markdown",
   "metadata": {},
   "source": [
    "## Introduction/Business Problem"
   ]
  },
  {
   "cell_type": "markdown",
   "metadata": {},
   "source": [
    "The goal of the project is to build a predictor capable of predicting the severity of a road accident given traffic, weather and other environmental conditions. The severity is to be predicted in terms of a property damage only or with some type of bodily injury in case of accident. The purpose of the predictor is to help travellers to judge if the conditions they are currently encountering during their trip are a known factor relevant for serious consequences in case of accident or not. The idea for reaching the goal is to use the accident dataset maintained and made publicly available by the Transportation Department of the City of Seattle. This accident dataset can be retrieved in CSV format at the address https://data-seattlecitygis.opendata.arcgis.com/datasets/collisions. Such dataset will be use to build and validate a predictor using the Machine Learning techniques presented in the previous courses of in this IBM Professional Certificate series."
   ]
  },
  {
   "cell_type": "code",
   "execution_count": null,
   "metadata": {},
   "outputs": [],
   "source": []
  }
 ],
 "metadata": {
  "kernelspec": {
   "display_name": "Python 3",
   "language": "python",
   "name": "python3"
  },
  "language_info": {
   "codemirror_mode": {
    "name": "ipython",
    "version": 3
   },
   "file_extension": ".py",
   "mimetype": "text/x-python",
   "name": "python",
   "nbconvert_exporter": "python",
   "pygments_lexer": "ipython3",
   "version": "3.8.5"
  }
 },
 "nbformat": 4,
 "nbformat_minor": 4
}
