{
 "cells": [
  {
   "cell_type": "markdown",
   "metadata": {},
   "source": [
    "# Data Science Capstone Project - Notebook\n",
    "The present Jupyter Notebook implements assignments of the course \"Applied Data Science Capstone\", the last of the nine courses of the IBM Professional Certification \"Data Science\".\n",
    "\n",
    "-----"
   ]
  },
  {
   "cell_type": "markdown",
   "metadata": {},
   "source": [
    "# __Car Accident Severity Prediction Based on Contextual Conditions__"
   ]
  },
  {
   "cell_type": "markdown",
   "metadata": {},
   "source": [
    "## Table of contents\n",
    "* [Introduction](#introduction)\n",
    "* [Data](#data)\n",
    "* [Methodology](#methodology)\n",
    "* [Results](#results)\n",
    "* [Discussion](#discussion)\n",
    "* [Conclusion](#conclusion)"
   ]
  },
  {
   "cell_type": "markdown",
   "metadata": {},
   "source": [
    "## __Introduction__ <a id=\"introduction\"></a>"
   ]
  },
  {
   "cell_type": "markdown",
   "metadata": {},
   "source": [
    "### Business Understanding"
   ]
  },
  {
   "cell_type": "markdown",
   "metadata": {},
   "source": [
    "The goal of the project is to build a predictor capable of predicting the severity of a road accident given traffic, weather and other environmental conditions. The severity is to be predicted in terms of a property damage only or with some type of bodily injury event in case of accident. The purpose of the predictor is to help travellers to judge if the conditions they are currently encountering during their trip are a known factor relevant for serious consequences in case of accident or not. The idea for reaching the goal is to use the accident dataset maintained and made publicly available by the Transportation Department of the City of Seattle. This accident dataset can be retrieved in CSV format at the address https://data-seattlecitygis.opendata.arcgis.com/datasets/collisions. Such dataset will be use to build and validate a predictor using the Machine Learning techniques presented in the courses of the \"IBM Data Science Professional Certificate\" series on Coursera."
   ]
  },
  {
   "cell_type": "markdown",
   "metadata": {},
   "source": [
    "## __Data__ <a id=\"data\"></a>"
   ]
  },
  {
   "cell_type": "markdown",
   "metadata": {},
   "source": [
    "### Data Understanding"
   ]
  },
  {
   "cell_type": "markdown",
   "metadata": {},
   "source": [
    "Following a first analysis of the accident dataset provided by the City of Seattle Transportation Department, the following columns are found to be representative of the conditions that are felt to be most relevant to affect the severity of an accident:\n",
    "* LOCATION - Location of the accident\n",
    "* JUNCTIONTYPE - Type of of road junction (mid-block with or without junction, intersection, driveway, ramp, etc.)\n",
    "* WEATHER - Weather condition (Overcast, Raining, Clear, Snowing, etc.)\n",
    "* ROADCOND - Road condition (Wet, Dry, Snow/Slush, Ice, etc.)\n",
    "* LIGHTCOND - Lighting conditions (Daylight, Dark - Street Lights On, Dark - No Street Lights, etc.)\n",
    "* SPEEDING - Speeding vehicles (Yes or No)\n",
    "* VEHCOUNT - Number of vehicles involved\n",
    "* PERSONCOUNT - Number of persons involved\n",
    "\n",
    "The target field that the predictor will need to predict is \"SEVERITYCODE\", with the values 2 and 1 for 'Injury Collision' and 'Property Damage Only Collision'."
   ]
  },
  {
   "cell_type": "markdown",
   "metadata": {},
   "source": [
    "Based on the above column selection, a first analysis of the raw data provides the following results:"
   ]
  },
  {
   "cell_type": "code",
   "execution_count": 174,
   "metadata": {
    "jupyter": {
     "source_hidden": true
    }
   },
   "outputs": [
    {
     "name": "stdout",
     "output_type": "stream",
     "text": [
      "Dataset shape: (194673, 38)\n"
     ]
    }
   ],
   "source": [
    "# import the needed libraries\n",
    "import pandas as pd\n",
    "import numpy as np\n",
    "\n",
    "# load the SDOT dataset\n",
    "rawdata = pd.read_csv('Data-Collisions.csv', low_memory=False)\n",
    "\n",
    "# Check the cardinality of the dataset\n",
    "print('Dataset shape:', rawdata.shape)"
   ]
  },
  {
   "cell_type": "code",
   "execution_count": 175,
   "metadata": {
    "jupyter": {
     "source_hidden": true
    }
   },
   "outputs": [
    {
     "name": "stdout",
     "output_type": "stream",
     "text": [
      "SEVERITYCODE unique values: [2 1]\n",
      "SEVERITYDESC unique values: ['Injury Collision' 'Property Damage Only Collision']\n",
      "JUNCTIONTYPE unique values: ['At Intersection (intersection related)'\n",
      " 'Mid-Block (not related to intersection)' 'Driveway Junction'\n",
      " 'Mid-Block (but intersection related)'\n",
      " 'At Intersection (but not related to intersection)' nan 'Unknown'\n",
      " 'Ramp Junction']\n",
      "WEATHER unique values: ['Overcast' 'Raining' 'Clear' nan 'Unknown' 'Other' 'Snowing'\n",
      " 'Fog/Smog/Smoke' 'Sleet/Hail/Freezing Rain' 'Blowing Sand/Dirt'\n",
      " 'Severe Crosswind' 'Partly Cloudy']\n",
      "ROADCOND unique values: ['Wet' 'Dry' nan 'Unknown' 'Snow/Slush' 'Ice' 'Other' 'Sand/Mud/Dirt'\n",
      " 'Standing Water' 'Oil']\n",
      "LIGHTCOND unique values: ['Daylight' 'Dark - Street Lights On' 'Dark - No Street Lights' nan\n",
      " 'Unknown' 'Dusk' 'Dawn' 'Dark - Street Lights Off' 'Other'\n",
      " 'Dark - Unknown Lighting']\n",
      "SPEEDING unique values: [nan 'Y']\n",
      "\n",
      "Number of damage-only incidents: 136485\n",
      "Number of bodily injury incidents: 58188\n",
      "\n",
      "Number of unique LOCATION: 24103\n",
      "\n",
      "Most typical locations for damage-only incidents: LOCATION\n",
      "BATTERY ST TUNNEL NB BETWEEN ALASKAN WY VI NB AND AURORA AVE N                          198\n",
      "BATTERY ST TUNNEL SB BETWEEN AURORA AVE N AND ALASKAN WY VI SB                          185\n",
      "ALASKAN WY VI NB BETWEEN S ROYAL BROUGHAM WAY ON RP AND SENECA ST OFF RP                175\n",
      "N NORTHGATE WAY BETWEEN MERIDIAN AVE N AND CORLISS AVE N                                171\n",
      "AURORA AVE N BETWEEN N 130TH ST AND N 135TH ST                                          151\n",
      "6TH AVE AND JAMES ST                                                                    145\n",
      "ALASKAN WY VI SB BETWEEN COLUMBIA ST ON RP AND ALASKAN WY VI SB EFR OFF RP              144\n",
      "1ST AVE BETWEEN BLANCHARD ST AND BELL ST                                                140\n",
      "RAINIER AVE S BETWEEN S BAYVIEW ST AND S MCCLELLAN ST                                   137\n",
      "WEST SEATTLE BR EB BETWEEN ALASKAN WY VI NB ON RP AND DELRIDGE-W SEATTLE BR EB ON RP    134\n",
      "AURORA AVE N BETWEEN N 117TH PL AND N 125TH ST                                          134\n",
      "AURORA BR BETWEEN RAYE ST AND BRIDGE WAY N                                              129\n",
      "ALASKAN WY VI NB BETWEEN SENECA ST OFF RP AND WESTERN AV OFF RP                         109\n",
      "1ST AVE BETWEEN UNION ST AND PIKE ST                                                    108\n",
      "RAINIER AVE S BETWEEN S DEARBORN ST AND S CHARLES N ST                                  102\n",
      "5TH AVE AND VIRGINIA ST                                                                 101\n",
      "RAINIER AVE S BETWEEN S HENDERSON ST AND S DIRECTOR N ST                                101\n",
      "dtype: int64\n",
      "\n",
      "Most typical locations for bodily injury incidents: LOCATION\n",
      "AURORA AVE N BETWEEN N 117TH PL AND N 125TH ST    120\n",
      "6TH AVE AND JAMES ST                              107\n",
      "dtype: int64\n",
      "\n",
      "Number of incidents by JUNCTIONTYPE value: JUNCTIONTYPE\n",
      "Mid-Block (not related to intersection)              89800\n",
      "At Intersection (intersection related)               62810\n",
      "Mid-Block (but intersection related)                 22790\n",
      "Driveway Junction                                    10671\n",
      "At Intersection (but not related to intersection)     2098\n",
      "Ramp Junction                                          166\n",
      "Unknown                                                  9\n",
      "dtype: int64\n",
      "\n",
      "Number of incidents by WEATHER value: WEATHER\n",
      "Clear                       111135\n",
      "Raining                      33145\n",
      "Overcast                     27714\n",
      "Unknown                      15091\n",
      "Snowing                        907\n",
      "Other                          832\n",
      "Fog/Smog/Smoke                 569\n",
      "Sleet/Hail/Freezing Rain       113\n",
      "Blowing Sand/Dirt               56\n",
      "Severe Crosswind                25\n",
      "Partly Cloudy                    5\n",
      "dtype: int64\n",
      "\n",
      "Number of incidents by ROADCOND value: ROADCOND\n",
      "Dry               124510\n",
      "Wet                47474\n",
      "Unknown            15078\n",
      "Ice                 1209\n",
      "Snow/Slush          1004\n",
      "Other                132\n",
      "Standing Water       115\n",
      "Sand/Mud/Dirt         75\n",
      "Oil                   64\n",
      "dtype: int64\n",
      "\n",
      "Number of incidents by LIGHTCOND value: LIGHTCOND\n",
      "Daylight                    116137\n",
      "Dark - Street Lights On      48507\n",
      "Unknown                      13473\n",
      "Dusk                          5902\n",
      "Dawn                          2502\n",
      "Dark - No Street Lights       1537\n",
      "Dark - Street Lights Off      1199\n",
      "Other                          235\n",
      "Dark - Unknown Lighting         11\n",
      "dtype: int64\n",
      "\n",
      "Number of incidents by SPEEDING value: SPEEDING\n",
      "Y    9333\n",
      "dtype: int64\n"
     ]
    }
   ],
   "source": [
    "# Study the content of the columns selected for the analysis\n",
    "print('SEVERITYCODE unique values:', rawdata['SEVERITYCODE'].unique())\n",
    "print('SEVERITYDESC unique values:', rawdata['SEVERITYDESC'].unique())\n",
    "print('JUNCTIONTYPE unique values:', rawdata['JUNCTIONTYPE'].unique())\n",
    "print('WEATHER unique values:', rawdata['WEATHER'].unique())\n",
    "print('ROADCOND unique values:', rawdata['ROADCOND'].unique())\n",
    "print('LIGHTCOND unique values:', rawdata['LIGHTCOND'].unique())\n",
    "print('SPEEDING unique values:', rawdata['SPEEDING'].unique())\n",
    "print()\n",
    "print('Number of damage-only incidents:', len(rawdata[rawdata.SEVERITYCODE == 1]))\n",
    "print('Number of bodily injury incidents:', len(rawdata[rawdata.SEVERITYCODE == 2]))\n",
    "print()\n",
    "print('Number of unique LOCATION:', len(rawdata['LOCATION'].unique()))\n",
    "print()\n",
    "damage_loc = rawdata[rawdata['SEVERITYCODE'] == 1].groupby(['LOCATION']).size().sort_values(ascending=False)\n",
    "print('Most typical locations for damage-only incidents:', damage_loc[damage_loc > 100])\n",
    "print()\n",
    "injury_loc = rawdata[rawdata['SEVERITYCODE'] == 2].groupby(['LOCATION']).size().sort_values(ascending=False)\n",
    "print('Most typical locations for bodily injury incidents:', injury_loc[injury_loc > 100])\n",
    "print()\n",
    "print('Number of incidents by JUNCTIONTYPE value:', rawdata.groupby(['JUNCTIONTYPE']).size().sort_values(ascending=False))\n",
    "print()\n",
    "print('Number of incidents by WEATHER value:', rawdata.groupby(['WEATHER']).size().sort_values(ascending=False))\n",
    "print()\n",
    "print('Number of incidents by ROADCOND value:', rawdata.groupby(['ROADCOND']).size().sort_values(ascending=False))\n",
    "print()\n",
    "print('Number of incidents by LIGHTCOND value:', rawdata.groupby(['LIGHTCOND']).size().sort_values(ascending=False))\n",
    "print()\n",
    "print('Number of incidents by SPEEDING value:', rawdata.groupby(['SPEEDING']).size().sort_values(ascending=False))"
   ]
  },
  {
   "cell_type": "markdown",
   "metadata": {},
   "source": [
    "### Data Preparation and Cleaning"
   ]
  },
  {
   "cell_type": "markdown",
   "metadata": {},
   "source": [
    "The above results call for a clean-up of the dataset consisting of a number of adjustments as follows:"
   ]
  },
  {
   "cell_type": "code",
   "execution_count": 176,
   "metadata": {
    "jupyter": {
     "source_hidden": true
    }
   },
   "outputs": [],
   "source": [
    "data = rawdata[['SEVERITYCODE', 'LOCATION', 'JUNCTIONTYPE', 'WEATHER', 'ROADCOND', 'LIGHTCOND', 'SPEEDING', 'VEHCOUNT', 'PERSONCOUNT']].copy(deep=True)"
   ]
  },
  {
   "cell_type": "markdown",
   "metadata": {},
   "source": [
    "* Transformation of SPEEDING column \"NaN\" values into \"0\" for \"No\" and of \"Y\" values into \"1\" for \"Yes\""
   ]
  },
  {
   "cell_type": "code",
   "execution_count": 177,
   "metadata": {
    "jupyter": {
     "source_hidden": true
    }
   },
   "outputs": [],
   "source": [
    "data['SPEEDING'].replace(np.nan, 0, inplace = True)\n",
    "data['SPEEDING'].replace('Y', 1, inplace = True)"
   ]
  },
  {
   "cell_type": "markdown",
   "metadata": {},
   "source": [
    "* Elimination of all records containing \"NaN\" values or other undefined column values like \"Unknown\" "
   ]
  },
  {
   "cell_type": "code",
   "execution_count": 178,
   "metadata": {
    "jupyter": {
     "source_hidden": true
    }
   },
   "outputs": [],
   "source": [
    "data = data.dropna(axis=0, how='any')\n",
    "data.drop(data[data['JUNCTIONTYPE'] == 'Unknown'].index, inplace = True)\n",
    "data.drop(data[data['WEATHER'] == 'Unknown'].index, inplace = True)\n",
    "data.drop(data[data['WEATHER'] == 'Other'].index, inplace = True)\n",
    "data.drop(data[data['ROADCOND'] == 'Unknown'].index, inplace = True)\n",
    "data.drop(data[data['ROADCOND'] == 'Other'].index, inplace = True)\n",
    "data.drop(data[data['LIGHTCOND'] == 'Other'].index, inplace = True)"
   ]
  },
  {
   "cell_type": "markdown",
   "metadata": {},
   "source": [
    "* Substitution of the LOCATION identifier column with the probability of a bodily injury in case of an incident at that location based on the content of the dataset, as it is felt that such indication can help the predictor in identifying the severity of the incident at a certain location much more than a categorization of the very numerous locations (over 2000) mentioned in the dataset."
   ]
  },
  {
   "cell_type": "code",
   "execution_count": 180,
   "metadata": {
    "jupyter": {
     "source_hidden": true
    }
   },
   "outputs": [],
   "source": [
    "loc_data = pd.DataFrame(data=data['LOCATION'].unique(), index=None, columns=['LOCATION']).sort_values('LOCATION')\n",
    "loc_data.index = loc_data['LOCATION']\n",
    "loc_data.drop(['LOCATION'], axis=1, inplace=True)\n",
    "loc_damages = pd.DataFrame(data[data['SEVERITYCODE'] == 1].groupby(['LOCATION']).size(), columns=['DAMAGES'])\n",
    "loc_injuries = pd.DataFrame(data[data['SEVERITYCODE'] == 2].groupby(['LOCATION']).size(), columns=['INJURIES'])\n",
    "loc_data['LOCINJRISK'] = loc_injuries['INJURIES'] / (loc_damages['DAMAGES'] + loc_injuries['INJURIES'])\n",
    "loc_data['LOCINJRISK'].replace(np.nan, 0, inplace = True)\n",
    "data = pd.merge(data, loc_data, on='LOCATION', how='inner')"
   ]
  },
  {
   "cell_type": "markdown",
   "metadata": {},
   "source": [
    "The dataset resulting from the above adjustments is as follows:"
   ]
  },
  {
   "cell_type": "code",
   "execution_count": 181,
   "metadata": {
    "jupyter": {
     "source_hidden": true
    }
   },
   "outputs": [
    {
     "data": {
      "text/html": [
       "<div>\n",
       "<style scoped>\n",
       "    .dataframe tbody tr th:only-of-type {\n",
       "        vertical-align: middle;\n",
       "    }\n",
       "\n",
       "    .dataframe tbody tr th {\n",
       "        vertical-align: top;\n",
       "    }\n",
       "\n",
       "    .dataframe thead th {\n",
       "        text-align: right;\n",
       "    }\n",
       "</style>\n",
       "<table border=\"1\" class=\"dataframe\">\n",
       "  <thead>\n",
       "    <tr style=\"text-align: right;\">\n",
       "      <th></th>\n",
       "      <th>SEVERITYCODE</th>\n",
       "      <th>LOCATION</th>\n",
       "      <th>JUNCTIONTYPE</th>\n",
       "      <th>WEATHER</th>\n",
       "      <th>ROADCOND</th>\n",
       "      <th>LIGHTCOND</th>\n",
       "      <th>SPEEDING</th>\n",
       "      <th>VEHCOUNT</th>\n",
       "      <th>PERSONCOUNT</th>\n",
       "      <th>LOCINJRISK</th>\n",
       "    </tr>\n",
       "  </thead>\n",
       "  <tbody>\n",
       "    <tr>\n",
       "      <th>0</th>\n",
       "      <td>2</td>\n",
       "      <td>5TH AVE NE AND NE 103RD ST</td>\n",
       "      <td>At Intersection (intersection related)</td>\n",
       "      <td>Overcast</td>\n",
       "      <td>Wet</td>\n",
       "      <td>Daylight</td>\n",
       "      <td>0</td>\n",
       "      <td>2</td>\n",
       "      <td>2</td>\n",
       "      <td>0.483871</td>\n",
       "    </tr>\n",
       "    <tr>\n",
       "      <th>1</th>\n",
       "      <td>1</td>\n",
       "      <td>5TH AVE NE AND NE 103RD ST</td>\n",
       "      <td>At Intersection (intersection related)</td>\n",
       "      <td>Overcast</td>\n",
       "      <td>Dry</td>\n",
       "      <td>Dark - Street Lights On</td>\n",
       "      <td>0</td>\n",
       "      <td>3</td>\n",
       "      <td>4</td>\n",
       "      <td>0.483871</td>\n",
       "    </tr>\n",
       "    <tr>\n",
       "      <th>2</th>\n",
       "      <td>2</td>\n",
       "      <td>5TH AVE NE AND NE 103RD ST</td>\n",
       "      <td>At Intersection (intersection related)</td>\n",
       "      <td>Clear</td>\n",
       "      <td>Dry</td>\n",
       "      <td>Daylight</td>\n",
       "      <td>0</td>\n",
       "      <td>3</td>\n",
       "      <td>5</td>\n",
       "      <td>0.483871</td>\n",
       "    </tr>\n",
       "    <tr>\n",
       "      <th>3</th>\n",
       "      <td>2</td>\n",
       "      <td>5TH AVE NE AND NE 103RD ST</td>\n",
       "      <td>At Intersection (intersection related)</td>\n",
       "      <td>Overcast</td>\n",
       "      <td>Wet</td>\n",
       "      <td>Daylight</td>\n",
       "      <td>0</td>\n",
       "      <td>2</td>\n",
       "      <td>2</td>\n",
       "      <td>0.483871</td>\n",
       "    </tr>\n",
       "    <tr>\n",
       "      <th>4</th>\n",
       "      <td>1</td>\n",
       "      <td>5TH AVE NE AND NE 103RD ST</td>\n",
       "      <td>At Intersection (intersection related)</td>\n",
       "      <td>Overcast</td>\n",
       "      <td>Wet</td>\n",
       "      <td>Daylight</td>\n",
       "      <td>0</td>\n",
       "      <td>2</td>\n",
       "      <td>2</td>\n",
       "      <td>0.483871</td>\n",
       "    </tr>\n",
       "    <tr>\n",
       "      <th>...</th>\n",
       "      <td>...</td>\n",
       "      <td>...</td>\n",
       "      <td>...</td>\n",
       "      <td>...</td>\n",
       "      <td>...</td>\n",
       "      <td>...</td>\n",
       "      <td>...</td>\n",
       "      <td>...</td>\n",
       "      <td>...</td>\n",
       "      <td>...</td>\n",
       "    </tr>\n",
       "    <tr>\n",
       "      <th>169282</th>\n",
       "      <td>2</td>\n",
       "      <td>5TH AVE W BETWEEN W FULTON ST AND W BARRETT S ST</td>\n",
       "      <td>Mid-Block (not related to intersection)</td>\n",
       "      <td>Clear</td>\n",
       "      <td>Dry</td>\n",
       "      <td>Dusk</td>\n",
       "      <td>0</td>\n",
       "      <td>2</td>\n",
       "      <td>2</td>\n",
       "      <td>0.000000</td>\n",
       "    </tr>\n",
       "    <tr>\n",
       "      <th>169283</th>\n",
       "      <td>1</td>\n",
       "      <td>SW OTHELLO ST BETWEEN 29TH AVE SW AND 30TH AVE SW</td>\n",
       "      <td>Mid-Block (not related to intersection)</td>\n",
       "      <td>Raining</td>\n",
       "      <td>Wet</td>\n",
       "      <td>Dark - Street Lights On</td>\n",
       "      <td>0</td>\n",
       "      <td>2</td>\n",
       "      <td>2</td>\n",
       "      <td>0.000000</td>\n",
       "    </tr>\n",
       "    <tr>\n",
       "      <th>169284</th>\n",
       "      <td>2</td>\n",
       "      <td>5TH AVE S BETWEEN S LUCILE ST AND S FINDLAY ST</td>\n",
       "      <td>Driveway Junction</td>\n",
       "      <td>Clear</td>\n",
       "      <td>Dry</td>\n",
       "      <td>Daylight</td>\n",
       "      <td>0</td>\n",
       "      <td>2</td>\n",
       "      <td>2</td>\n",
       "      <td>0.000000</td>\n",
       "    </tr>\n",
       "    <tr>\n",
       "      <th>169285</th>\n",
       "      <td>1</td>\n",
       "      <td>NE PARK RD AND NE RAVENNA WB BV</td>\n",
       "      <td>At Intersection (intersection related)</td>\n",
       "      <td>Clear</td>\n",
       "      <td>Dry</td>\n",
       "      <td>Daylight</td>\n",
       "      <td>0</td>\n",
       "      <td>2</td>\n",
       "      <td>2</td>\n",
       "      <td>0.000000</td>\n",
       "    </tr>\n",
       "    <tr>\n",
       "      <th>169286</th>\n",
       "      <td>1</td>\n",
       "      <td>PUGET BLVD SW BETWEEN SW HUDSON ST AND DEAD END 1</td>\n",
       "      <td>Mid-Block (not related to intersection)</td>\n",
       "      <td>Raining</td>\n",
       "      <td>Wet</td>\n",
       "      <td>Dark - Street Lights On</td>\n",
       "      <td>0</td>\n",
       "      <td>1</td>\n",
       "      <td>1</td>\n",
       "      <td>0.000000</td>\n",
       "    </tr>\n",
       "  </tbody>\n",
       "</table>\n",
       "<p>169287 rows × 10 columns</p>\n",
       "</div>"
      ],
      "text/plain": [
       "        SEVERITYCODE                                           LOCATION  \\\n",
       "0                  2                         5TH AVE NE AND NE 103RD ST   \n",
       "1                  1                         5TH AVE NE AND NE 103RD ST   \n",
       "2                  2                         5TH AVE NE AND NE 103RD ST   \n",
       "3                  2                         5TH AVE NE AND NE 103RD ST   \n",
       "4                  1                         5TH AVE NE AND NE 103RD ST   \n",
       "...              ...                                                ...   \n",
       "169282             2   5TH AVE W BETWEEN W FULTON ST AND W BARRETT S ST   \n",
       "169283             1  SW OTHELLO ST BETWEEN 29TH AVE SW AND 30TH AVE SW   \n",
       "169284             2     5TH AVE S BETWEEN S LUCILE ST AND S FINDLAY ST   \n",
       "169285             1                    NE PARK RD AND NE RAVENNA WB BV   \n",
       "169286             1  PUGET BLVD SW BETWEEN SW HUDSON ST AND DEAD END 1   \n",
       "\n",
       "                                   JUNCTIONTYPE   WEATHER ROADCOND  \\\n",
       "0        At Intersection (intersection related)  Overcast      Wet   \n",
       "1        At Intersection (intersection related)  Overcast      Dry   \n",
       "2        At Intersection (intersection related)     Clear      Dry   \n",
       "3        At Intersection (intersection related)  Overcast      Wet   \n",
       "4        At Intersection (intersection related)  Overcast      Wet   \n",
       "...                                         ...       ...      ...   \n",
       "169282  Mid-Block (not related to intersection)     Clear      Dry   \n",
       "169283  Mid-Block (not related to intersection)   Raining      Wet   \n",
       "169284                        Driveway Junction     Clear      Dry   \n",
       "169285   At Intersection (intersection related)     Clear      Dry   \n",
       "169286  Mid-Block (not related to intersection)   Raining      Wet   \n",
       "\n",
       "                      LIGHTCOND  SPEEDING  VEHCOUNT  PERSONCOUNT  LOCINJRISK  \n",
       "0                      Daylight         0         2            2    0.483871  \n",
       "1       Dark - Street Lights On         0         3            4    0.483871  \n",
       "2                      Daylight         0         3            5    0.483871  \n",
       "3                      Daylight         0         2            2    0.483871  \n",
       "4                      Daylight         0         2            2    0.483871  \n",
       "...                         ...       ...       ...          ...         ...  \n",
       "169282                     Dusk         0         2            2    0.000000  \n",
       "169283  Dark - Street Lights On         0         2            2    0.000000  \n",
       "169284                 Daylight         0         2            2    0.000000  \n",
       "169285                 Daylight         0         2            2    0.000000  \n",
       "169286  Dark - Street Lights On         0         1            1    0.000000  \n",
       "\n",
       "[169287 rows x 10 columns]"
      ]
     },
     "execution_count": 181,
     "metadata": {},
     "output_type": "execute_result"
    }
   ],
   "source": [
    "data"
   ]
  },
  {
   "cell_type": "code",
   "execution_count": 182,
   "metadata": {
    "jupyter": {
     "source_hidden": true
    }
   },
   "outputs": [
    {
     "data": {
      "text/plain": [
       "SEVERITYCODE      int64\n",
       "LOCATION         object\n",
       "JUNCTIONTYPE     object\n",
       "WEATHER          object\n",
       "ROADCOND         object\n",
       "LIGHTCOND        object\n",
       "SPEEDING          int64\n",
       "VEHCOUNT          int64\n",
       "PERSONCOUNT       int64\n",
       "LOCINJRISK      float64\n",
       "dtype: object"
      ]
     },
     "execution_count": 182,
     "metadata": {},
     "output_type": "execute_result"
    }
   ],
   "source": [
    "data.dtypes"
   ]
  },
  {
   "cell_type": "markdown",
   "metadata": {},
   "source": [
    "### Data Pre-Processing\n",
    "A final adjustment before building the predictor is to transform the categorical features selected for predicting the incident severity into numerical values that can be used by the Machine Learning techniques that will be used to develop the predictor."
   ]
  },
  {
   "cell_type": "code",
   "execution_count": 193,
   "metadata": {
    "jupyter": {
     "source_hidden": true
    }
   },
   "outputs": [],
   "source": [
    "X = data[['JUNCTIONTYPE', 'WEATHER', 'ROADCOND', 'LIGHTCOND', 'SPEEDING', 'VEHCOUNT', 'PERSONCOUNT', 'LOCINJRISK']].values\n",
    "#X = data[['JUNCTIONTYPE', 'WEATHER', 'ROADCOND', 'LIGHTCOND', 'SPEEDING', 'VEHCOUNT', 'PERSONCOUNT']].values\n",
    "#X = data[['SPEEDING', 'VEHCOUNT', 'PERSONCOUNT', 'LOCINJRISK']].values\n",
    "#X = data[['VEHCOUNT', 'PERSONCOUNT', 'LOCINJRISK']].values\n",
    "#X = data[['LOCINJRISK']].values\n",
    "#X = data[['JUNCTIONTYPE', 'SPEEDING', 'VEHCOUNT', 'PERSONCOUNT', 'LOCINJRISK']].values\n",
    "y = data['SEVERITYCODE']"
   ]
  },
  {
   "cell_type": "code",
   "execution_count": 194,
   "metadata": {
    "jupyter": {
     "source_hidden": true
    }
   },
   "outputs": [
    {
     "name": "stdout",
     "output_type": "stream",
     "text": [
      "JUNCTIONTYPE unique values: ['At Intersection (intersection related)'\n",
      " 'At Intersection (but not related to intersection)'\n",
      " 'Mid-Block (not related to intersection)'\n",
      " 'Mid-Block (but intersection related)' 'Driveway Junction'\n",
      " 'Ramp Junction']\n",
      "WEATHER unique values: ['Overcast' 'Clear' 'Raining' 'Blowing Sand/Dirt' 'Snowing'\n",
      " 'Fog/Smog/Smoke' 'Sleet/Hail/Freezing Rain' 'Severe Crosswind'\n",
      " 'Partly Cloudy']\n",
      "ROADCOND unique values: ['Wet' 'Dry' 'Ice' 'Snow/Slush' 'Standing Water' 'Oil' 'Sand/Mud/Dirt']\n",
      "LIGHTCOND unique values: ['Daylight' 'Dark - Street Lights On' 'Dusk' 'Unknown' 'Dawn'\n",
      " 'Dark - Street Lights Off' 'Dark - No Street Lights'\n",
      " 'Dark - Unknown Lighting']\n"
     ]
    }
   ],
   "source": [
    "print('JUNCTIONTYPE unique values:', data['JUNCTIONTYPE'].unique())\n",
    "print('WEATHER unique values:', data['WEATHER'].unique())\n",
    "print('ROADCOND unique values:', data['ROADCOND'].unique())\n",
    "print('LIGHTCOND unique values:', data['LIGHTCOND'].unique())"
   ]
  },
  {
   "cell_type": "code",
   "execution_count": 195,
   "metadata": {
    "jupyter": {
     "source_hidden": true
    }
   },
   "outputs": [],
   "source": [
    "from sklearn import preprocessing\n",
    "\n",
    "le_junctiontype = preprocessing.LabelEncoder()\n",
    "le_junctiontype.fit(['At Intersection (intersection related)', 'Mid-Block (not related to intersection)', 'Driveway Junction',\n",
    "                     'Mid-Block (but intersection related)', 'At Intersection (but not related to intersection)', 'Ramp Junction'])\n",
    "X[:, 0] = le_junctiontype.transform(X[:, 0]) \n",
    "\n",
    "le_weather = preprocessing.LabelEncoder()\n",
    "le_weather.fit(['Overcast', 'Clear', 'Raining', 'Blowing Sand/Dirt', 'Snowing', 'Fog/Smog/Smoke', \n",
    "                'Sleet/Hail/Freezing Rain', 'Severe Crosswind', 'Partly Cloudy'])\n",
    "X[:, 1] = le_weather.transform(X[:, 1])\n",
    "\n",
    "le_roadcond = preprocessing.LabelEncoder()\n",
    "le_roadcond.fit(['Wet', 'Dry', 'Ice', 'Snow/Slush', 'Standing Water', 'Oil', 'Sand/Mud/Dirt'])\n",
    "X[:, 2] = le_roadcond.transform(X[:, 2]) \n",
    "\n",
    "le_lightcond = preprocessing.LabelEncoder()\n",
    "le_lightcond.fit(['Daylight', 'Dark - Street Lights On', 'Dusk', 'Unknown', 'Dawn', 'Dark - Street Lights Off', \n",
    "             'Dark - No Street Lights', 'Dark - Unknown Lighting'])\n",
    "X[:, 3] = le_lightcond.transform(X[:, 3]) "
   ]
  },
  {
   "cell_type": "markdown",
   "metadata": {},
   "source": [
    "Following the above categorization the data set results to be as follows:"
   ]
  },
  {
   "cell_type": "code",
   "execution_count": 196,
   "metadata": {
    "jupyter": {
     "source_hidden": true
    }
   },
   "outputs": [
    {
     "name": "stdout",
     "output_type": "stream",
     "text": [
      "X, the Feature Matrix (data): [[1 3 6 ... 2 2 0.4838709677419355]\n",
      " [1 3 0 ... 3 4 0.4838709677419355]\n",
      " [1 1 0 ... 3 5 0.4838709677419355]\n",
      " ...\n",
      " [2 1 0 ... 2 2 0.0]\n",
      " [1 1 0 ... 2 2 0.0]\n",
      " [4 5 6 ... 1 1 0.0]]\n",
      "\n",
      "y, the response vector (target): 0         2\n",
      "1         1\n",
      "2         2\n",
      "3         2\n",
      "4         1\n",
      "         ..\n",
      "169282    2\n",
      "169283    1\n",
      "169284    2\n",
      "169285    1\n",
      "169286    1\n",
      "Name: SEVERITYCODE, Length: 169287, dtype: int64\n"
     ]
    }
   ],
   "source": [
    "print('X, the Feature Matrix (data):', X)\n",
    "print()\n",
    "print('y, the response vector (target):', y)"
   ]
  },
  {
   "cell_type": "code",
   "execution_count": 197,
   "metadata": {
    "jupyter": {
     "source_hidden": true
    }
   },
   "outputs": [],
   "source": [
    "# apparently not needed\n",
    "from sklearn import preprocessing\n",
    "X = preprocessing.StandardScaler().fit(X).transform(X)"
   ]
  },
  {
   "cell_type": "markdown",
   "metadata": {},
   "source": [
    "The final step of the pre-processing is the separation of the data set into a train set for the development of the predictor and a test set for its validation."
   ]
  },
  {
   "cell_type": "code",
   "execution_count": 198,
   "metadata": {
    "jupyter": {
     "source_hidden": true
    }
   },
   "outputs": [
    {
     "name": "stdout",
     "output_type": "stream",
     "text": [
      "Train set: (135429, 8) (135429,)\n",
      "Test set: (33858, 8) (33858,)\n"
     ]
    }
   ],
   "source": [
    "from sklearn.model_selection import train_test_split\n",
    "X_train, X_test, y_train, y_test = train_test_split( X, y, test_size=0.2, random_state=4)\n",
    "print ('Train set:', X_train.shape,  y_train.shape)\n",
    "print ('Test set:', X_test.shape,  y_test.shape)"
   ]
  },
  {
   "cell_type": "code",
   "execution_count": 199,
   "metadata": {
    "jupyter": {
     "source_hidden": true
    }
   },
   "outputs": [],
   "source": [
    "from sklearn.metrics import classification_report, confusion_matrix\n",
    "import itertools\n",
    "import matplotlib.pyplot as plt\n",
    "\n",
    "def plot_confusion_matrix(cm, classes,\n",
    "                          normalize=True,\n",
    "                          title='Confusion matrix',\n",
    "                          cmap=plt.cm.Blues):\n",
    "    \"\"\"\n",
    "    This function prints and plots the confusion matrix.\n",
    "    Normalization can be applied by setting `normalize=True`.\n",
    "    \"\"\"\n",
    "    if normalize:\n",
    "        cm = cm.astype('float') / cm.sum(axis=1)[:, np.newaxis]\n",
    "        #print(\"Normalized confusion matrix\")\n",
    "    #else:\n",
    "        #print('Confusion matrix, without normalization')\n",
    "\n",
    "    #print(cm)\n",
    "\n",
    "    plt.imshow(cm, interpolation='nearest', cmap=cmap)\n",
    "    plt.title(title)\n",
    "    plt.colorbar()\n",
    "    tick_marks = np.arange(len(classes))\n",
    "    plt.xticks(tick_marks, classes, rotation=45)\n",
    "    plt.yticks(tick_marks, classes)\n",
    "\n",
    "    fmt = '.2f' if normalize else 'd'\n",
    "    thresh = cm.max() / 2.\n",
    "    for i, j in itertools.product(range(cm.shape[0]), range(cm.shape[1])):\n",
    "        plt.text(j, i, format(cm[i, j], fmt),\n",
    "                 horizontalalignment=\"center\",\n",
    "                 color=\"white\" if cm[i, j] > thresh else \"black\")\n",
    "\n",
    "    plt.tight_layout()\n",
    "    plt.ylabel('True label')\n",
    "    plt.xlabel('Predicted label')"
   ]
  },
  {
   "cell_type": "markdown",
   "metadata": {},
   "source": [
    "## __Methodology__ <a id=\"methodology\"></a>\n",
    "In the present section various predictors are built usign the train data set according to the Machine Learning techniques presented during the specialization courses series. The predictors are then validated using the test set previously prepared and a table is finally presented to summarize the performance of the various predictors and indicate the one that provides the best accuracy."
   ]
  },
  {
   "cell_type": "markdown",
   "metadata": {},
   "source": [
    "Before building and evaluating the various predictors, it is useful to evaluate the level of correlation in the available dataset to assess the chances that we will have to build solid predictors for identifuing the incident severity in terms of damage-only or bodily injury in case of incident given the incident features identified. Such an assessment is possible by building a \"heatmap\" to represent the mutual correlation between the features and the target. Analyzing the prepared data the heatmap is as follows:"
   ]
  },
  {
   "cell_type": "code",
   "execution_count": 207,
   "metadata": {
    "jupyter": {
     "source_hidden": true
    }
   },
   "outputs": [
    {
     "data": {
      "image/png": "[encoded data removed]",
      "text/plain": [
       "<Figure size 720x720 with 2 Axes>"
      ]
     },
     "metadata": {
      "needs_background": "light"
     },
     "output_type": "display_data"
    }
   ],
   "source": [
    "adjdata = data.copy(deep=True)\n",
    "adjdata.iloc[:, 2] = le_junctiontype.transform(adjdata.iloc[:, 2])\n",
    "adjdata.iloc[:, 3] = le_weather.transform(adjdata.iloc[:, 3])\n",
    "adjdata.iloc[:, 4] = le_roadcond.transform(adjdata.iloc[:, 4]) \n",
    "adjdata.iloc[:, 5] = le_lightcond.transform(adjdata.iloc[:, 5])\n",
    "import seaborn as sns\n",
    "import numpy as np\n",
    "import pandas as pd\n",
    "import matplotlib.pyplot as plt\n",
    "fig, ax = plt.subplots(figsize=(10,10))\n",
    "sns.heatmap(adjdata.corr(), annot = True, square=True, ax=ax)\n",
    "plt.show()"
   ]
  },
  {
   "cell_type": "markdown",
   "metadata": {},
   "source": [
    "It can be seen that in general the level of mutual correlation between the various features and the target is very poor. Most of the correlations are very close to zero with only few unsurprising exceptions:\n",
    "\n",
    "* The strongest correlation (value 0.8) appears to be between the weather (WEATHER) and the road condition (ROADCOND) features. This is typically related to the fact that a rainy weather is connected to a wet road, clear weather is connected to a dry road, etc.\n",
    "* A second significant correlation (value 0.8) is present between the number of vehicles (VEHCOUNT) and the number of people (PERSONCOUNT) involved in the incident. Also this correlation is unsurprising as it is to be expected that with more vehicles are involved also the number of people will inevitably grow and viceversa.\n",
    "* The third significant correlation (value 0.36) is between the target feature severity code (SEVERITYCODE) and the newly added feature representing the likeliness of a bodily injury vs. a damage-only at the incident location (LOCINJRISK), which was calculated according to the severity of the incidents recorded in the dataset for the various locations.\n",
    "\n",
    "Being connected to the target feature, the third correlation appears to be the most useful one for helping the prediction of the incident severity. Due to the absence of further helpful correlations it is to be expected that it will be difficult to build predictors with a good level of accuracy. Nevertheless let us build and compare the performance of possible predictors built using the following Machine Learning techniques:\n",
    "\n",
    "* Logistic Regression\n",
    "* Support Vector Machine (SVM)\n",
    "* K-Nearest Neighbor (KNN)\n",
    "* Decision Tree\n",
    "\n",
    "Using each single of the above techniques and the Python library \"Scikit Learn\", a predictor will be built using the previosuly prepared train data set and the accuracy will be assessed using the previously prepared test data set. The resulting prediction accuracies will be then gathered in a single table, which will be commented in the \"Results\" section of the present report. "
   ]
  },
  {
   "cell_type": "code",
   "execution_count": 29,
   "metadata": {
    "jupyter": {
     "source_hidden": true
    }
   },
   "outputs": [],
   "source": [
    "from sklearn import metrics\n",
    "from sklearn.metrics import jaccard_score\n",
    "from sklearn.metrics import f1_score\n",
    "from sklearn.metrics import log_loss"
   ]
  },
  {
   "cell_type": "markdown",
   "metadata": {},
   "source": [
    "### Modeling with Logistic Regression"
   ]
  },
  {
   "cell_type": "code",
   "execution_count": 30,
   "metadata": {
    "jupyter": {
     "source_hidden": true
    }
   },
   "outputs": [
    {
     "data": {
      "text/plain": [
       "LogisticRegression(C=0.01, solver='liblinear')"
      ]
     },
     "execution_count": 30,
     "metadata": {},
     "output_type": "execute_result"
    }
   ],
   "source": [
    "from sklearn.linear_model import LogisticRegression\n",
    "from sklearn.metrics import confusion_matrix\n",
    "LR = LogisticRegression(C=0.01, solver='liblinear').fit(X_train, y_train)\n",
    "LR"
   ]
  },
  {
   "cell_type": "code",
   "execution_count": 31,
   "metadata": {
    "jupyter": {
     "source_hidden": true
    }
   },
   "outputs": [],
   "source": [
    "yhat = LR.predict(X_test)"
   ]
  },
  {
   "cell_type": "code",
   "execution_count": 32,
   "metadata": {
    "jupyter": {
     "source_hidden": true
    }
   },
   "outputs": [],
   "source": [
    "yhat_prob = LR.predict_proba(X_test)"
   ]
  },
  {
   "cell_type": "code",
   "execution_count": 33,
   "metadata": {
    "jupyter": {
     "source_hidden": true
    }
   },
   "outputs": [
    {
     "data": {
      "image/png": "[encoded data removed]",
      "text/plain": [
       "<Figure size 432x288 with 2 Axes>"
      ]
     },
     "metadata": {
      "needs_background": "light"
     },
     "output_type": "display_data"
    }
   ],
   "source": [
    "# Compute confusion matrix\n",
    "cnf_matrix = confusion_matrix(y_test, yhat, labels=[1, 2])\n",
    "np.set_printoptions(precision=2)\n",
    "\n",
    "# Plot non-normalized confusion matrix\n",
    "plt.figure()\n",
    "plot_confusion_matrix(cnf_matrix, classes=['damage=1','injury=2'], normalize= False,  title='Confusion matrix')"
   ]
  },
  {
   "cell_type": "code",
   "execution_count": 34,
   "metadata": {
    "jupyter": {
     "source_hidden": true
    }
   },
   "outputs": [
    {
     "name": "stdout",
     "output_type": "stream",
     "text": [
      "              precision    recall  f1-score   support\n",
      "\n",
      "           1       0.74      0.89      0.81     22697\n",
      "           2       0.62      0.35      0.45     11161\n",
      "\n",
      "    accuracy                           0.71     33858\n",
      "   macro avg       0.68      0.62      0.63     33858\n",
      "weighted avg       0.70      0.71      0.69     33858\n",
      "\n"
     ]
    }
   ],
   "source": [
    "print(classification_report(y_test, yhat))"
   ]
  },
  {
   "cell_type": "code",
   "execution_count": 35,
   "metadata": {
    "jupyter": {
     "source_hidden": true
    }
   },
   "outputs": [
    {
     "name": "stdout",
     "output_type": "stream",
     "text": [
      "Jaccard score: 0.6769883421852557\n",
      "F1-score: 0.8073858656680741\n",
      "Log-loss score: 0.5546087301960763\n"
     ]
    }
   ],
   "source": [
    "print('Jaccard score:', jaccard_score(y_test, yhat))\n",
    "print('F1-score:', f1_score(y_test, yhat))\n",
    "print('Log-loss score:', log_loss(y_test, yhat_prob))"
   ]
  },
  {
   "cell_type": "markdown",
   "metadata": {},
   "source": [
    "### Modeling with SVM"
   ]
  },
  {
   "cell_type": "code",
   "execution_count": 36,
   "metadata": {
    "jupyter": {
     "source_hidden": true
    }
   },
   "outputs": [
    {
     "data": {
      "text/plain": [
       "SVC(kernel='linear', probability=True)"
      ]
     },
     "execution_count": 36,
     "metadata": {},
     "output_type": "execute_result"
    }
   ],
   "source": [
    "from sklearn import svm\n",
    "SVM = svm.SVC(kernel='linear', gamma='scale', probability=True).fit(X, y)\n",
    "SVM"
   ]
  },
  {
   "cell_type": "code",
   "execution_count": 40,
   "metadata": {
    "jupyter": {
     "source_hidden": true
    }
   },
   "outputs": [],
   "source": [
    "yhat = SVM.predict(X_test)"
   ]
  },
  {
   "cell_type": "code",
   "execution_count": 38,
   "metadata": {
    "jupyter": {
     "source_hidden": true
    }
   },
   "outputs": [],
   "source": [
    "yhat_prob = SVM.predict_proba(X_test)"
   ]
  },
  {
   "cell_type": "code",
   "execution_count": 41,
   "metadata": {
    "jupyter": {
     "source_hidden": true
    }
   },
   "outputs": [
    {
     "data": {
      "image/png": "[encoded data removed]",
      "text/plain": [
       "<Figure size 432x288 with 2 Axes>"
      ]
     },
     "metadata": {
      "needs_background": "light"
     },
     "output_type": "display_data"
    }
   ],
   "source": [
    "# Compute confusion matrix\n",
    "cnf_matrix = confusion_matrix(y_test, yhat, labels=[1, 2])\n",
    "np.set_printoptions(precision=2)\n",
    "\n",
    "# Plot non-normalized confusion matrix\n",
    "plt.figure()\n",
    "plot_confusion_matrix(cnf_matrix, classes=['damage=1','injury=2'], normalize= False,  title='Confusion matrix')"
   ]
  },
  {
   "cell_type": "code",
   "execution_count": 42,
   "metadata": {
    "jupyter": {
     "source_hidden": true
    }
   },
   "outputs": [
    {
     "name": "stdout",
     "output_type": "stream",
     "text": [
      "              precision    recall  f1-score   support\n",
      "\n",
      "           1       0.72      0.94      0.81     22697\n",
      "           2       0.68      0.24      0.36     11161\n",
      "\n",
      "    accuracy                           0.71     33858\n",
      "   macro avg       0.70      0.59      0.59     33858\n",
      "weighted avg       0.70      0.71      0.66     33858\n",
      "\n"
     ]
    }
   ],
   "source": [
    "print(classification_report(y_test, yhat))"
   ]
  },
  {
   "cell_type": "code",
   "execution_count": 43,
   "metadata": {
    "jupyter": {
     "source_hidden": true
    }
   },
   "outputs": [
    {
     "name": "stdout",
     "output_type": "stream",
     "text": [
      "Jaccard score: 0.6876984763432238\n",
      "F1-score: 0.8149541947010301\n",
      "Log-loss score: 0.5613624392049108\n"
     ]
    }
   ],
   "source": [
    "print('Jaccard score:', jaccard_score(y_test, yhat))\n",
    "print('F1-score:', f1_score(y_test, yhat))\n",
    "print('Log-loss score:', log_loss(y_test, yhat_prob))"
   ]
  },
  {
   "cell_type": "markdown",
   "metadata": {},
   "source": [
    "### Modeling with KNN"
   ]
  },
  {
   "cell_type": "code",
   "execution_count": 214,
   "metadata": {
    "jupyter": {
     "source_hidden": true
    }
   },
   "outputs": [
    {
     "data": {
      "image/png": "[encoded data removed]",
      "text/plain": [
       "<Figure size 432x288 with 1 Axes>"
      ]
     },
     "metadata": {
      "needs_background": "light"
     },
     "output_type": "display_data"
    },
    {
     "name": "stdout",
     "output_type": "stream",
     "text": [
      "Best Accuracy is 0.7897985705003249 for k = 1\n"
     ]
    },
    {
     "data": {
      "text/plain": [
       "KNeighborsClassifier(n_neighbors=1)"
      ]
     },
     "execution_count": 214,
     "metadata": {},
     "output_type": "execute_result"
    }
   ],
   "source": [
    "from sklearn.neighbors import KNeighborsClassifier\n",
    "\n",
    "# explore the performance of KNN on the train-test set for various possible levels of \"k\"\n",
    "Ks = 12\n",
    "mean_acc = np.zeros((Ks - 1))\n",
    "std_acc = np.zeros((Ks - 1))\n",
    "best_acc = 0\n",
    "best_k = 0\n",
    "\n",
    "for k in range(1, Ks):\n",
    "    KNN = KNeighborsClassifier(n_neighbors = k).fit(X, y)\n",
    "    yhat = KNN.predict(X_test)\n",
    "    mean_acc[k - 1] = metrics.accuracy_score(y_test, yhat)\n",
    "    std_acc[k - 1] = np.std(yhat == y_test) / np.sqrt(yhat.shape[0])\n",
    "    if mean_acc[k - 1] > best_acc:\n",
    "        best_acc = mean_acc[k - 1]\n",
    "        best_k = k\n",
    "\n",
    "plt.plot(range(1, Ks), mean_acc, 'g')\n",
    "plt.fill_between(range(1, Ks), mean_acc - 1 * std_acc, mean_acc + 1 * std_acc, alpha=0.10)\n",
    "plt.legend(('Accuracy ', '+/- 3xstd'))\n",
    "plt.ylabel('Accuracy ')\n",
    "plt.xlabel('Number of Neighbors (K)')\n",
    "plt.tight_layout()\n",
    "plt.show()\n",
    "\n",
    "print('Best Accuracy is', best_acc, 'for k =', best_k)\n",
    "KNN = KNeighborsClassifier(n_neighbors = best_k).fit(X, y)\n",
    "KNN"
   ]
  },
  {
   "cell_type": "code",
   "execution_count": 215,
   "metadata": {
    "jupyter": {
     "source_hidden": true
    }
   },
   "outputs": [],
   "source": [
    "yhat = KNN.predict(X_test)"
   ]
  },
  {
   "cell_type": "code",
   "execution_count": 216,
   "metadata": {
    "jupyter": {
     "source_hidden": true
    }
   },
   "outputs": [],
   "source": [
    "yhat_prob = KNN.predict_proba(X_test)"
   ]
  },
  {
   "cell_type": "code",
   "execution_count": 217,
   "metadata": {
    "jupyter": {
     "source_hidden": true
    }
   },
   "outputs": [
    {
     "data": {
      "image/png": "[encoded data removed]",
      "text/plain": [
       "<Figure size 432x288 with 2 Axes>"
      ]
     },
     "metadata": {
      "needs_background": "light"
     },
     "output_type": "display_data"
    }
   ],
   "source": [
    "# Compute confusion matrix\n",
    "cnf_matrix = confusion_matrix(y_test, yhat, labels=[1, 2])\n",
    "np.set_printoptions(precision=2)\n",
    "\n",
    "# Plot non-normalized confusion matrix\n",
    "plt.figure()\n",
    "plot_confusion_matrix(cnf_matrix, classes=['damage=1','injury=2'], normalize= False,  title='Confusion matrix')"
   ]
  },
  {
   "cell_type": "code",
   "execution_count": 218,
   "metadata": {
    "jupyter": {
     "source_hidden": true
    }
   },
   "outputs": [
    {
     "name": "stdout",
     "output_type": "stream",
     "text": [
      "              precision    recall  f1-score   support\n",
      "\n",
      "           1       0.84      0.85      0.84     22697\n",
      "           2       0.69      0.67      0.68     11161\n",
      "\n",
      "    accuracy                           0.79     33858\n",
      "   macro avg       0.76      0.76      0.76     33858\n",
      "weighted avg       0.79      0.79      0.79     33858\n",
      "\n"
     ]
    }
   ],
   "source": [
    "print(classification_report(y_test, yhat))"
   ]
  },
  {
   "cell_type": "code",
   "execution_count": 219,
   "metadata": {
    "jupyter": {
     "source_hidden": true
    }
   },
   "outputs": [
    {
     "name": "stdout",
     "output_type": "stream",
     "text": [
      "Jaccard score: 0.7307022854548206\n",
      "F1-score: 0.8443997463871095\n",
      "Log-loss score: 7.260100171379862\n"
     ]
    }
   ],
   "source": [
    "print('Jaccard score:', jaccard_score(y_test, yhat))\n",
    "print('F1-score:', f1_score(y_test, yhat))\n",
    "print('Log-loss score:', log_loss(y_test, yhat_prob))"
   ]
  },
  {
   "cell_type": "markdown",
   "metadata": {},
   "source": [
    "### Modeling with Decision Tree"
   ]
  },
  {
   "cell_type": "code",
   "execution_count": 208,
   "metadata": {
    "jupyter": {
     "source_hidden": true
    }
   },
   "outputs": [
    {
     "data": {
      "text/plain": [
       "DecisionTreeClassifier(criterion='entropy', max_depth=30)"
      ]
     },
     "execution_count": 208,
     "metadata": {},
     "output_type": "execute_result"
    }
   ],
   "source": [
    "from sklearn.tree import DecisionTreeClassifier\n",
    "DT = DecisionTreeClassifier(criterion=\"entropy\", max_depth=30).fit(X, y)\n",
    "DT"
   ]
  },
  {
   "cell_type": "code",
   "execution_count": 209,
   "metadata": {
    "jupyter": {
     "source_hidden": true
    }
   },
   "outputs": [],
   "source": [
    "yhat = DT.predict(X_test)"
   ]
  },
  {
   "cell_type": "code",
   "execution_count": 210,
   "metadata": {
    "jupyter": {
     "source_hidden": true
    }
   },
   "outputs": [],
   "source": [
    "yhat_prob = DT.predict_proba(X_test)"
   ]
  },
  {
   "cell_type": "code",
   "execution_count": 211,
   "metadata": {
    "jupyter": {
     "source_hidden": true
    }
   },
   "outputs": [
    {
     "data": {
      "image/png": "[encoded data removed]",
      "text/plain": [
       "<Figure size 432x288 with 2 Axes>"
      ]
     },
     "metadata": {
      "needs_background": "light"
     },
     "output_type": "display_data"
    }
   ],
   "source": [
    "# Compute confusion matrix\n",
    "cnf_matrix = confusion_matrix(y_test, yhat, labels=[1, 2])\n",
    "np.set_printoptions(precision=2)\n",
    "\n",
    "# Plot non-normalized confusion matrix\n",
    "plt.figure()\n",
    "plot_confusion_matrix(cnf_matrix, classes=['damage=1','injury=2'], normalize= False,  title='Confusion matrix')"
   ]
  },
  {
   "cell_type": "code",
   "execution_count": 212,
   "metadata": {
    "jupyter": {
     "source_hidden": true
    }
   },
   "outputs": [
    {
     "name": "stdout",
     "output_type": "stream",
     "text": [
      "              precision    recall  f1-score   support\n",
      "\n",
      "           1       0.82      0.95      0.88     22697\n",
      "           2       0.85      0.59      0.70     11161\n",
      "\n",
      "    accuracy                           0.83     33858\n",
      "   macro avg       0.84      0.77      0.79     33858\n",
      "weighted avg       0.83      0.83      0.82     33858\n",
      "\n"
     ]
    }
   ],
   "source": [
    "print(classification_report(y_test, yhat))"
   ]
  },
  {
   "cell_type": "code",
   "execution_count": 205,
   "metadata": {
    "jupyter": {
     "source_hidden": true
    }
   },
   "outputs": [
    {
     "name": "stdout",
     "output_type": "stream",
     "text": [
      "Jaccard score: 0.7057160587464663\n",
      "F1-score: 0.8274719055703776\n",
      "Log-loss score: 0.5018186555575692\n"
     ]
    }
   ],
   "source": [
    "print('Jaccard score:', jaccard_score(y_test, yhat))\n",
    "print('F1-score:', f1_score(y_test, yhat))\n",
    "print('Log-loss score:', log_loss(y_test, yhat_prob))"
   ]
  },
  {
   "cell_type": "code",
   "execution_count": null,
   "metadata": {
    "jupyter": {
     "source_hidden": true
    }
   },
   "outputs": [],
   "source": [
    "# let's have a look at the created decision tree\n",
    "#from sklearn.externals.six import StringIO\n",
    "from six import StringIO\n",
    "import pydotplus\n",
    "import matplotlib.pyplot as plt\n",
    "import matplotlib.image as mpimg\n",
    "from sklearn import tree\n",
    "%matplotlib inline \n",
    "dot_data = StringIO()\n",
    "filename = \"DT.png\"\n",
    "featureNames = ['JUNCTIONTYPE', 'WEATHER', 'ROADCOND', 'LIGHTCOND', 'SPEEDING', 'VEHCOUNT', 'PERSONCOUNT', 'LOCINJRISK']\n",
    "targetNames = data['SEVERITYCODE'].unique().tolist()\n",
    "out = tree.export_graphviz(DT, feature_names=featureNames, out_file=dot_data, class_names=['DAMAGE', 'INJURY'], filled=True, special_characters=True, rotate=False)  \n",
    "graph = pydotplus.graph_from_dot_data(dot_data.getvalue())  \n",
    "graph.write_png(filename)\n",
    "img = mpimg.imread(filename)\n",
    "plt.figure(figsize=(100, 200))\n",
    "plt.imshow(img, interpolation='nearest')\n",
    "plt.show()"
   ]
  },
  {
   "cell_type": "code",
   "execution_count": null,
   "metadata": {
    "jupyter": {
     "source_hidden": true
    }
   },
   "outputs": [],
   "source": []
  },
  {
   "cell_type": "markdown",
   "metadata": {},
   "source": [
    "## __Results__ <a id=\"results\"></a>"
   ]
  },
  {
   "cell_type": "markdown",
   "metadata": {},
   "source": [
    "The following table summarizes the weighed accuracies on precision and recall plus F1 scores achieved by the various predictors on the test data set:\n",
    "\n",
    "\n",
    "| Predictor Type            | Weighed Avg. Precision | Weighed Avg. Recall | Weighed Avg. F1 Score | Notes | \n",
    "|:--------------------------|:------------:|:------------:|:------------:|:----------------|\n",
    "| Logistic Regression       | 0.70         | 0.71         | 0.69         |                 |\n",
    "| Support Vector Regression | 0.70         | 0.71         | 0.66         |                 |\n",
    "| K-Nearest Neighbor        | 0.79         | 0.79         | 0.79         |                 |\n",
    "| Decision Tree             | 0.83         | 0.83         | 0.82         | Best performer! |\n",
    "\n"
   ]
  },
  {
   "cell_type": "markdown",
   "metadata": {},
   "source": [
    "## __Discussion__ <a id=\"discussion\"></a>"
   ]
  },
  {
   "cell_type": "markdown",
   "metadata": {},
   "source": [
    "### Evaluation\n",
    "\n",
    "It must be noted that the performances achieved by the various predictors were in general surprisingly good despite the heatmap of the correlations between the features showed quite poor and unpromising values. The Decision Tree predictor clearly proved to be the most accurate in this case. This result was obtained building a quite deep tree, whch in any case resulted in a quite short training time, actually much shorter than the ones that were required for training the SVM and KNN predictors."
   ]
  },
  {
   "cell_type": "markdown",
   "metadata": {},
   "source": [
    "## __Conclusion__ <a id=\"conclusion\"></a>"
   ]
  },
  {
   "cell_type": "markdown",
   "metadata": {},
   "source": [
    "The project consisted in building a successful predictor to predict the severity in terms of \"damage-only\" or \"bodiliy injury\" of the outcome of a car incident occurring in the Seattle city area given a number of environmental conditions consisting of location, road condition, weather condition, road junction type, speeding, number of people involved, light conditions, number of vehicles involved.\n",
    "\n",
    "The data available for building the predictor consisted in a CSV file maintained by the Departmentt of Traffic of Seattle consisting of 169287 records. Such data set was divided into two distinct sets of 135429 records for training candidate predictors and 33858 records for testing them.\n",
    "\n",
    "In order to find a good solution, multiple predictors have been built using the different Machine Learning techniques suitable for binary predictions presented during the specialization courses. In particular four predictors have been built based on Logistic Regression, Support Vector Machine (SVM), K-Nearest Neighbor (KNN) and Decision Tree.\n",
    "\n",
    "The comparison of the performances of the four predictors on the test set indicated that the Decision Tree predictor was the best performer in terms of accuracy."
   ]
  },
  {
   "cell_type": "code",
   "execution_count": null,
   "metadata": {
    "jupyter": {
     "source_hidden": true
    }
   },
   "outputs": [],
   "source": []
  }
 ],
 "metadata": {
  "kernelspec": {
   "display_name": "Python 3",
   "language": "python",
   "name": "python3"
  },
  "language_info": {
   "codemirror_mode": {
    "name": "ipython",
    "version": 3
   },
   "file_extension": ".py",
   "mimetype": "text/x-python",
   "name": "python",
   "nbconvert_exporter": "python",
   "pygments_lexer": "ipython3",
   "version": "3.8.5"
  }
 },
 "nbformat": 4,
 "nbformat_minor": 4
}
