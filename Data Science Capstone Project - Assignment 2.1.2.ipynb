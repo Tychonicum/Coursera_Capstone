{
 "cells": [
  {
   "cell_type": "markdown",
   "metadata": {},
   "source": [
    "# Data Science Capstone Project\n",
    "The present Jupyter Notebook implements assignments of the course \"Applied Data Science Capstone\", the last of the nine courses of the IBM Professional Certification \"Data Science\". "
   ]
  },
  {
   "cell_type": "markdown",
   "metadata": {},
   "source": [
    "## Week 2 - Assignment 1.2"
   ]
  },
  {
   "cell_type": "markdown",
   "metadata": {},
   "source": [
    "## Discussion of the Data"
   ]
  },
  {
   "cell_type": "markdown",
   "metadata": {},
   "source": [
    "Following a first analysis of the accident dataset provided by the City of Seattle Transportation Department (see the cells below in the present Jupyter Notebook), the following columns are found to be representative of the conditions that are felt to be most relevant to affect the severity of an accident:\n",
    "* LOCATION - Location of the accident\n",
    "* JUNCTIONTYPE - Type of of road junction (mid-block with or without junction, intersection, driveway, ramp, etc.)\n",
    "* ROADCOND - Road condition (Wet, Dry, Snow/Slush, Ice, etc.)\n",
    "* WEATHER - Weather condition (Overcast, Raining, Clear, Snowing, etc.)\n",
    "* LIGHTCOND - Lighting conditions (Daylight, Dark - Street Lights On, Dark - No Street Lights, etc.)\n",
    "* PERSONCOUNT - Number of persons involved\n",
    "* VEHCOUNT - Number of vehicles involved\n",
    "* SPEEDING - Speeding vehicles (Yes or No)\n",
    "\n",
    "The target field that the predictor will need to predict is \"SEVERITYCODE\", with the values 2 and 1 for 'Injury Collision' and 'Property Damage Only Collision'."
   ]
  },
  {
   "cell_type": "markdown",
   "metadata": {},
   "source": [
    "### Python Libraries Used"
   ]
  },
  {
   "cell_type": "code",
   "execution_count": 2,
   "metadata": {},
   "outputs": [
    {
     "name": "stdout",
     "output_type": "stream",
     "text": [
      "pandas 1.1.2\n",
      "numpy 1.19.1\n"
     ]
    }
   ],
   "source": [
    "import pandas as pd\n",
    "print('pandas', pd.__version__)"
   ]
  },
  {
   "cell_type": "markdown",
   "metadata": {},
   "source": [
    "### Loading of the Dataset"
   ]
  },
  {
   "cell_type": "code",
   "execution_count": 28,
   "metadata": {},
   "outputs": [
    {
     "data": {
      "text/html": [
       "<div>\n",
       "<style scoped>\n",
       "    .dataframe tbody tr th:only-of-type {\n",
       "        vertical-align: middle;\n",
       "    }\n",
       "\n",
       "    .dataframe tbody tr th {\n",
       "        vertical-align: top;\n",
       "    }\n",
       "\n",
       "    .dataframe thead th {\n",
       "        text-align: right;\n",
       "    }\n",
       "</style>\n",
       "<table border=\"1\" class=\"dataframe\">\n",
       "  <thead>\n",
       "    <tr style=\"text-align: right;\">\n",
       "      <th></th>\n",
       "      <th>PERSONCOUNT</th>\n",
       "      <th>PEDCOUNT</th>\n",
       "      <th>PEDCYLCOUNT</th>\n",
       "      <th>VEHCOUNT</th>\n",
       "      <th>SPEEDING</th>\n",
       "    </tr>\n",
       "  </thead>\n",
       "  <tbody>\n",
       "    <tr>\n",
       "      <th>0</th>\n",
       "      <td>2</td>\n",
       "      <td>0</td>\n",
       "      <td>0</td>\n",
       "      <td>2</td>\n",
       "      <td>NaN</td>\n",
       "    </tr>\n",
       "    <tr>\n",
       "      <th>1</th>\n",
       "      <td>2</td>\n",
       "      <td>0</td>\n",
       "      <td>0</td>\n",
       "      <td>2</td>\n",
       "      <td>NaN</td>\n",
       "    </tr>\n",
       "    <tr>\n",
       "      <th>2</th>\n",
       "      <td>4</td>\n",
       "      <td>0</td>\n",
       "      <td>0</td>\n",
       "      <td>3</td>\n",
       "      <td>NaN</td>\n",
       "    </tr>\n",
       "    <tr>\n",
       "      <th>3</th>\n",
       "      <td>3</td>\n",
       "      <td>0</td>\n",
       "      <td>0</td>\n",
       "      <td>3</td>\n",
       "      <td>NaN</td>\n",
       "    </tr>\n",
       "    <tr>\n",
       "      <th>4</th>\n",
       "      <td>2</td>\n",
       "      <td>0</td>\n",
       "      <td>0</td>\n",
       "      <td>2</td>\n",
       "      <td>NaN</td>\n",
       "    </tr>\n",
       "    <tr>\n",
       "      <th>...</th>\n",
       "      <td>...</td>\n",
       "      <td>...</td>\n",
       "      <td>...</td>\n",
       "      <td>...</td>\n",
       "      <td>...</td>\n",
       "    </tr>\n",
       "    <tr>\n",
       "      <th>194668</th>\n",
       "      <td>3</td>\n",
       "      <td>0</td>\n",
       "      <td>0</td>\n",
       "      <td>2</td>\n",
       "      <td>NaN</td>\n",
       "    </tr>\n",
       "    <tr>\n",
       "      <th>194669</th>\n",
       "      <td>2</td>\n",
       "      <td>0</td>\n",
       "      <td>0</td>\n",
       "      <td>2</td>\n",
       "      <td>NaN</td>\n",
       "    </tr>\n",
       "    <tr>\n",
       "      <th>194670</th>\n",
       "      <td>3</td>\n",
       "      <td>0</td>\n",
       "      <td>0</td>\n",
       "      <td>2</td>\n",
       "      <td>NaN</td>\n",
       "    </tr>\n",
       "    <tr>\n",
       "      <th>194671</th>\n",
       "      <td>2</td>\n",
       "      <td>0</td>\n",
       "      <td>1</td>\n",
       "      <td>1</td>\n",
       "      <td>NaN</td>\n",
       "    </tr>\n",
       "    <tr>\n",
       "      <th>194672</th>\n",
       "      <td>2</td>\n",
       "      <td>0</td>\n",
       "      <td>0</td>\n",
       "      <td>2</td>\n",
       "      <td>NaN</td>\n",
       "    </tr>\n",
       "  </tbody>\n",
       "</table>\n",
       "<p>194673 rows × 5 columns</p>\n",
       "</div>"
      ],
      "text/plain": [
       "        PERSONCOUNT  PEDCOUNT  PEDCYLCOUNT  VEHCOUNT SPEEDING\n",
       "0                 2         0            0         2      NaN\n",
       "1                 2         0            0         2      NaN\n",
       "2                 4         0            0         3      NaN\n",
       "3                 3         0            0         3      NaN\n",
       "4                 2         0            0         2      NaN\n",
       "...             ...       ...          ...       ...      ...\n",
       "194668            3         0            0         2      NaN\n",
       "194669            2         0            0         2      NaN\n",
       "194670            3         0            0         2      NaN\n",
       "194671            2         0            1         1      NaN\n",
       "194672            2         0            0         2      NaN\n",
       "\n",
       "[194673 rows x 5 columns]"
      ]
     },
     "execution_count": 28,
     "metadata": {},
     "output_type": "execute_result"
    }
   ],
   "source": [
    "rawdata = pd.read_csv('Data-Collisions.csv', low_memory=False)\n",
    "rawdata[['PERSONCOUNT', 'PEDCOUNT', 'PEDCYLCOUNT', 'VEHCOUNT', 'SPEEDING']]"
   ]
  },
  {
   "cell_type": "markdown",
   "metadata": {},
   "source": [
    "### The Accident Dataset"
   ]
  },
  {
   "cell_type": "code",
   "execution_count": 6,
   "metadata": {},
   "outputs": [
    {
     "name": "stdout",
     "output_type": "stream",
     "text": [
      "Dataset shape: (194673, 38)\n",
      "Dataset columns: Index(['SEVERITYCODE', 'X', 'Y', 'OBJECTID', 'INCKEY', 'COLDETKEY', 'REPORTNO',\n",
      "       'STATUS', 'ADDRTYPE', 'INTKEY', 'LOCATION', 'EXCEPTRSNCODE',\n",
      "       'EXCEPTRSNDESC', 'SEVERITYCODE.1', 'SEVERITYDESC', 'COLLISIONTYPE',\n",
      "       'PERSONCOUNT', 'PEDCOUNT', 'PEDCYLCOUNT', 'VEHCOUNT', 'INCDATE',\n",
      "       'INCDTTM', 'JUNCTIONTYPE', 'SDOT_COLCODE', 'SDOT_COLDESC',\n",
      "       'INATTENTIONIND', 'UNDERINFL', 'WEATHER', 'ROADCOND', 'LIGHTCOND',\n",
      "       'PEDROWNOTGRNT', 'SDOTCOLNUM', 'SPEEDING', 'ST_COLCODE', 'ST_COLDESC',\n",
      "       'SEGLANEKEY', 'CROSSWALKKEY', 'HITPARKEDCAR'],\n",
      "      dtype='object')\n"
     ]
    }
   ],
   "source": [
    "print('Dataset shape:', rawdata.shape)\n",
    "print('Dataset columns:', rawdata.columns)"
   ]
  },
  {
   "cell_type": "code",
   "execution_count": 30,
   "metadata": {},
   "outputs": [
    {
     "name": "stdout",
     "output_type": "stream",
     "text": [
      "SEVERITYCODE unique values: [2 1]\n",
      "SEVERITYDESC unique values: ['Injury Collision' 'Property Damage Only Collision']\n",
      "LOCATION unique values: ['5TH AVE NE AND NE 103RD ST' 'AURORA BR BETWEEN RAYE ST AND BRIDGE WAY N'\n",
      " '4TH AVE BETWEEN SENECA ST AND UNIVERSITY ST' ...\n",
      " '47TH AVE SW AND SW 98TH ST' 'NE PARK RD AND NE RAVENNA WB BV'\n",
      " 'PUGET BLVD SW BETWEEN SW HUDSON ST AND DEAD END 1']\n",
      "JUNCTIONTYPE unique values: ['At Intersection (intersection related)'\n",
      " 'Mid-Block (not related to intersection)' 'Driveway Junction'\n",
      " 'Mid-Block (but intersection related)'\n",
      " 'At Intersection (but not related to intersection)' nan 'Unknown'\n",
      " 'Ramp Junction']\n",
      "COLLISIONTYPE unique values: ['Angles' 'Sideswipe' 'Parked Car' 'Other' 'Cycles' 'Rear Ended' 'Head On'\n",
      " nan 'Left Turn' 'Pedestrian' 'Right Turn']\n",
      "WEATHER unique values: ['Overcast' 'Raining' 'Clear' nan 'Unknown' 'Other' 'Snowing'\n",
      " 'Fog/Smog/Smoke' 'Sleet/Hail/Freezing Rain' 'Blowing Sand/Dirt'\n",
      " 'Severe Crosswind' 'Partly Cloudy']\n",
      "ROADCOND unique values: ['Wet' 'Dry' nan 'Unknown' 'Snow/Slush' 'Ice' 'Other' 'Sand/Mud/Dirt'\n",
      " 'Standing Water' 'Oil']\n",
      "LIGHTCOND unique values: ['Daylight' 'Dark - Street Lights On' 'Dark - No Street Lights' nan\n",
      " 'Unknown' 'Dusk' 'Dawn' 'Dark - Street Lights Off' 'Other'\n",
      " 'Dark - Unknown Lighting']\n",
      "ADDRTYPE unique values: ['Intersection' 'Block' 'Alley' nan]\n",
      "SPEEDING unique values: [nan 'Y']\n"
     ]
    }
   ],
   "source": [
    "print('SEVERITYCODE unique values:', rawdata['SEVERITYCODE'].unique())\n",
    "print('SEVERITYDESC unique values:', rawdata['SEVERITYDESC'].unique())\n",
    "print('LOCATION unique values:', rawdata['LOCATION'].unique())\n",
    "print('JUNCTIONTYPE unique values:', rawdata['JUNCTIONTYPE'].unique())\n",
    "print('COLLISIONTYPE unique values:', rawdata['COLLISIONTYPE'].unique())\n",
    "print('WEATHER unique values:', rawdata['WEATHER'].unique())\n",
    "print('ROADCOND unique values:', rawdata['ROADCOND'].unique())\n",
    "print('LIGHTCOND unique values:', rawdata['LIGHTCOND'].unique())\n",
    "print('ADDRTYPE unique values:', rawdata['ADDRTYPE'].unique())\n",
    "print('SPEEDING unique values:', rawdata['SPEEDING'].unique())"
   ]
  },
  {
   "cell_type": "code",
   "execution_count": null,
   "metadata": {},
   "outputs": [],
   "source": []
  }
 ],
 "metadata": {
  "kernelspec": {
   "display_name": "Python 3",
   "language": "python",
   "name": "python3"
  },
  "language_info": {
   "codemirror_mode": {
    "name": "ipython",
    "version": 3
   },
   "file_extension": ".py",
   "mimetype": "text/x-python",
   "name": "python",
   "nbconvert_exporter": "python",
   "pygments_lexer": "ipython3",
   "version": "3.8.5"
  }
 },
 "nbformat": 4,
 "nbformat_minor": 4
}
